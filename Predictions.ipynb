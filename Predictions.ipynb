{
 "cells": [
  {
   "cell_type": "code",
   "execution_count": 26,
   "id": "e0e1af0e",
   "metadata": {},
   "outputs": [],
   "source": [
    "import transformers\n",
    "import tensorflow as tf\n",
    "import numpy as np\n",
    "import pandas as pd\n",
    "from transformers import AutoTokenizer, TFAutoModelForSequenceClassification\n",
    "from sklearn.preprocessing import LabelEncoder\n",
    "from sklearn.metrics import classification_report, accuracy_score, f1_score, confusion_matrix\n",
    "import matplotlib.pyplot as plt\n",
    "import seaborn as sns"
   ]
  },
  {
   "cell_type": "markdown",
   "id": "de7f2fb7",
   "metadata": {},
   "source": [
    "# BERT"
   ]
  },
  {
   "cell_type": "code",
   "execution_count": 41,
   "id": "abbe2821",
   "metadata": {},
   "outputs": [],
   "source": [
    "tokenizer = AutoTokenizer.from_pretrained(\"bert-base-uncased\")\n",
    "le = LabelEncoder()"
   ]
  },
  {
   "cell_type": "code",
   "execution_count": 5,
   "id": "d104d2a9",
   "metadata": {},
   "outputs": [
    {
     "name": "stderr",
     "output_type": "stream",
     "text": [
      "Some layers from the model checkpoint at models/bert were not used when initializing TFBertForSequenceClassification: ['dropout_75']\n",
      "- This IS expected if you are initializing TFBertForSequenceClassification from the checkpoint of a model trained on another task or with another architecture (e.g. initializing a BertForSequenceClassification model from a BertForPreTraining model).\n",
      "- This IS NOT expected if you are initializing TFBertForSequenceClassification from the checkpoint of a model that you expect to be exactly identical (initializing a BertForSequenceClassification model from a BertForSequenceClassification model).\n",
      "All the layers of TFBertForSequenceClassification were initialized from the model checkpoint at models/bert.\n",
      "If your task is similar to the task the model of the checkpoint was trained on, you can already use TFBertForSequenceClassification for predictions without further training.\n"
     ]
    }
   ],
   "source": [
    "model = TFAutoModelForSequenceClassification.from_pretrained(\"models/bert\")"
   ]
  },
  {
   "cell_type": "code",
   "execution_count": 42,
   "id": "eb1b3ac2",
   "metadata": {},
   "outputs": [],
   "source": [
    "test_dataset = pd.read_csv('datasets/test_level_a.csv')\n",
    "\n",
    "tweets = test_dataset['tweet']\n",
    "y_true = le.fit_transform(test_dataset['label'])"
   ]
  },
  {
   "cell_type": "code",
   "execution_count": 43,
   "id": "3a22f2ae",
   "metadata": {},
   "outputs": [
    {
     "name": "stdout",
     "output_type": "stream",
     "text": [
      "{'NOT': 0, 'OFF': 1}\n"
     ]
    }
   ],
   "source": [
    "le_name_mapping = dict(zip(le.classes_, le.transform(le.classes_)))\n",
    "print(le_name_mapping)"
   ]
  },
  {
   "cell_type": "code",
   "execution_count": 8,
   "id": "65dfc99d",
   "metadata": {},
   "outputs": [],
   "source": [
    "tokenized = tokenizer(tweets.tolist(), return_tensors=\"np\", padding=\"longest\")\n",
    "outputs = model(tokenized).logits\n",
    "\n",
    "y_pred = np.argmax(outputs, axis=1)"
   ]
  },
  {
   "cell_type": "markdown",
   "id": "072fa3ba",
   "metadata": {},
   "source": [
    "## Metrics"
   ]
  },
  {
   "cell_type": "code",
   "execution_count": 70,
   "id": "42d3e2ee",
   "metadata": {},
   "outputs": [],
   "source": [
    "def plot_conf_matrix(y_true, y_pred):\n",
    "    cm = confusion_matrix(y_true, y_pred)\n",
    "    class_names = le.classes_ # name  of classes\n",
    "    fig, ax = plt.subplots()\n",
    "    # create heatmap\n",
    "    sns.heatmap(pd.DataFrame(cm), annot=True, cmap=\"BuPu\" ,fmt='g', ax=ax)\n",
    "    ax.xaxis.set_ticklabels(class_names)\n",
    "    ax.yaxis.set_ticklabels(class_names)\n",
    "    ax.xaxis.set_label_position(\"top\")\n",
    "    plt.tight_layout()\n",
    "    plt.title('Confusion matrix', y=1.1)\n",
    "    plt.ylabel('True labels')\n",
    "    plt.xlabel('Predicted labels');"
   ]
  },
  {
   "cell_type": "code",
   "execution_count": 71,
   "id": "3e01da16",
   "metadata": {},
   "outputs": [
    {
     "name": "stdout",
     "output_type": "stream",
     "text": [
      "              precision    recall  f1-score   support\n",
      "\n",
      "         NOT       0.87      0.90      0.89       620\n",
      "         OFF       0.73      0.65      0.69       240\n",
      "\n",
      "    accuracy                           0.83       860\n",
      "   macro avg       0.80      0.78      0.79       860\n",
      "weighted avg       0.83      0.83      0.83       860\n",
      "\n",
      "\n",
      "accuracy: 0.8348837209302326\n",
      "macro F1: 0.7881273595380858\n",
      "weighted F1: 0.8321061153029763\n",
      "\n"
     ]
    },
    {
     "data": {
      "image/png": "[encoded data removed]",
      "text/plain": [
       "<Figure size 640x480 with 2 Axes>"
      ]
     },
     "metadata": {},
     "output_type": "display_data"
    }
   ],
   "source": [
    "print(classification_report(y_true, y_pred, target_names=le.classes_))\n",
    "print()\n",
    "print(\"accuracy:\", accuracy_score(y_true, y_pred))\n",
    "print(\"macro F1:\", f1_score(y_true, y_pred, average='macro'))\n",
    "print(\"weighted F1:\", f1_score(y_true, y_pred, average='weighted'))\n",
    "print()\n",
    "plot_conf_matrix(y_true, y_pred)"
   ]
  },
  {
   "cell_type": "markdown",
   "id": "f8258326",
   "metadata": {},
   "source": [
    "## Saving predictions"
   ]
  },
  {
   "cell_type": "code",
   "execution_count": 14,
   "id": "9fbfc5ed",
   "metadata": {},
   "outputs": [],
   "source": [
    "true_labels = test_dataset['label']\n",
    "bert_labels = le.inverse_transform(y_pred)"
   ]
  },
  {
   "cell_type": "code",
   "execution_count": 35,
   "id": "75fd1e99",
   "metadata": {
    "scrolled": false
   },
   "outputs": [
    {
     "data": {
      "text/html": [
       "<div>\n",
       "<style scoped>\n",
       "    .dataframe tbody tr th:only-of-type {\n",
       "        vertical-align: middle;\n",
       "    }\n",
       "\n",
       "    .dataframe tbody tr th {\n",
       "        vertical-align: top;\n",
       "    }\n",
       "\n",
       "    .dataframe thead th {\n",
       "        text-align: right;\n",
       "    }\n",
       "</style>\n",
       "<table border=\"1\" class=\"dataframe\">\n",
       "  <thead>\n",
       "    <tr style=\"text-align: right;\">\n",
       "      <th></th>\n",
       "      <th>id</th>\n",
       "      <th>tweet</th>\n",
       "      <th>true_label</th>\n",
       "      <th>bert_label</th>\n",
       "    </tr>\n",
       "  </thead>\n",
       "  <tbody>\n",
       "    <tr>\n",
       "      <th>0</th>\n",
       "      <td>15923</td>\n",
       "      <td>#WhoIsQ #WheresTheServer #DumpNike #DECLASFISA...</td>\n",
       "      <td>OFF</td>\n",
       "      <td>NOT</td>\n",
       "    </tr>\n",
       "    <tr>\n",
       "      <th>1</th>\n",
       "      <td>27014</td>\n",
       "      <td>#ConstitutionDay is revered by Conservatives, ...</td>\n",
       "      <td>NOT</td>\n",
       "      <td>NOT</td>\n",
       "    </tr>\n",
       "    <tr>\n",
       "      <th>2</th>\n",
       "      <td>30530</td>\n",
       "      <td>#FOXNews #NRA #MAGA #POTUS #TRUMP #2ndAmendmen...</td>\n",
       "      <td>NOT</td>\n",
       "      <td>NOT</td>\n",
       "    </tr>\n",
       "    <tr>\n",
       "      <th>3</th>\n",
       "      <td>13876</td>\n",
       "      <td>#Watching #Boomer getting the news that she is...</td>\n",
       "      <td>NOT</td>\n",
       "      <td>NOT</td>\n",
       "    </tr>\n",
       "    <tr>\n",
       "      <th>4</th>\n",
       "      <td>60133</td>\n",
       "      <td>#NoPasaran: Unity demo to oppose the far-right...</td>\n",
       "      <td>OFF</td>\n",
       "      <td>NOT</td>\n",
       "    </tr>\n",
       "    <tr>\n",
       "      <th>...</th>\n",
       "      <td>...</td>\n",
       "      <td>...</td>\n",
       "      <td>...</td>\n",
       "      <td>...</td>\n",
       "    </tr>\n",
       "    <tr>\n",
       "      <th>855</th>\n",
       "      <td>73439</td>\n",
       "      <td>#DespicableDems lie again about rifles. Dem Di...</td>\n",
       "      <td>OFF</td>\n",
       "      <td>NOT</td>\n",
       "    </tr>\n",
       "    <tr>\n",
       "      <th>856</th>\n",
       "      <td>25657</td>\n",
       "      <td>#MeetTheSpeakers 🙌 @USER will present in our e...</td>\n",
       "      <td>NOT</td>\n",
       "      <td>NOT</td>\n",
       "    </tr>\n",
       "    <tr>\n",
       "      <th>857</th>\n",
       "      <td>67018</td>\n",
       "      <td>3 people just unfollowed me for talking about ...</td>\n",
       "      <td>OFF</td>\n",
       "      <td>OFF</td>\n",
       "    </tr>\n",
       "    <tr>\n",
       "      <th>858</th>\n",
       "      <td>50665</td>\n",
       "      <td>#WednesdayWisdom Antifa calls the right fascis...</td>\n",
       "      <td>NOT</td>\n",
       "      <td>OFF</td>\n",
       "    </tr>\n",
       "    <tr>\n",
       "      <th>859</th>\n",
       "      <td>24583</td>\n",
       "      <td>#Kavanaugh typical #liberals , #Democrats URL</td>\n",
       "      <td>NOT</td>\n",
       "      <td>NOT</td>\n",
       "    </tr>\n",
       "  </tbody>\n",
       "</table>\n",
       "<p>860 rows × 4 columns</p>\n",
       "</div>"
      ],
      "text/plain": [
       "        id                                              tweet true_label   \n",
       "0    15923  #WhoIsQ #WheresTheServer #DumpNike #DECLASFISA...        OFF  \\\n",
       "1    27014  #ConstitutionDay is revered by Conservatives, ...        NOT   \n",
       "2    30530  #FOXNews #NRA #MAGA #POTUS #TRUMP #2ndAmendmen...        NOT   \n",
       "3    13876  #Watching #Boomer getting the news that she is...        NOT   \n",
       "4    60133  #NoPasaran: Unity demo to oppose the far-right...        OFF   \n",
       "..     ...                                                ...        ...   \n",
       "855  73439  #DespicableDems lie again about rifles. Dem Di...        OFF   \n",
       "856  25657  #MeetTheSpeakers 🙌 @USER will present in our e...        NOT   \n",
       "857  67018  3 people just unfollowed me for talking about ...        OFF   \n",
       "858  50665  #WednesdayWisdom Antifa calls the right fascis...        NOT   \n",
       "859  24583      #Kavanaugh typical #liberals , #Democrats URL        NOT   \n",
       "\n",
       "    bert_label  \n",
       "0          NOT  \n",
       "1          NOT  \n",
       "2          NOT  \n",
       "3          NOT  \n",
       "4          NOT  \n",
       "..         ...  \n",
       "855        NOT  \n",
       "856        NOT  \n",
       "857        OFF  \n",
       "858        OFF  \n",
       "859        NOT  \n",
       "\n",
       "[860 rows x 4 columns]"
      ]
     },
     "execution_count": 35,
     "metadata": {},
     "output_type": "execute_result"
    }
   ],
   "source": [
    "name_dict = {\n",
    "    'id': test_dataset['id'].values,\n",
    "    'tweet': tweets.values,\n",
    "    'true_label': true_labels,\n",
    "    'bert_label': bert_labels\n",
    "}\n",
    "\n",
    "df = pd.DataFrame(name_dict)\n",
    "df"
   ]
  },
  {
   "cell_type": "code",
   "execution_count": 37,
   "id": "42692000",
   "metadata": {},
   "outputs": [],
   "source": [
    "df.to_csv('predictions.csv', index=False)"
   ]
  },
  {
   "cell_type": "markdown",
   "id": "14efc9d8",
   "metadata": {},
   "source": [
    "## Wrong predictions"
   ]
  },
  {
   "cell_type": "code",
   "execution_count": 39,
   "id": "3d005a6c",
   "metadata": {},
   "outputs": [
    {
     "data": {
      "text/html": [
       "<div>\n",
       "<style scoped>\n",
       "    .dataframe tbody tr th:only-of-type {\n",
       "        vertical-align: middle;\n",
       "    }\n",
       "\n",
       "    .dataframe tbody tr th {\n",
       "        vertical-align: top;\n",
       "    }\n",
       "\n",
       "    .dataframe thead th {\n",
       "        text-align: right;\n",
       "    }\n",
       "</style>\n",
       "<table border=\"1\" class=\"dataframe\">\n",
       "  <thead>\n",
       "    <tr style=\"text-align: right;\">\n",
       "      <th></th>\n",
       "      <th>id</th>\n",
       "      <th>tweet</th>\n",
       "      <th>true_label</th>\n",
       "      <th>bert_label</th>\n",
       "    </tr>\n",
       "  </thead>\n",
       "  <tbody>\n",
       "    <tr>\n",
       "      <th>0</th>\n",
       "      <td>15923</td>\n",
       "      <td>#WhoIsQ #WheresTheServer #DumpNike #DECLASFISA...</td>\n",
       "      <td>OFF</td>\n",
       "      <td>NOT</td>\n",
       "    </tr>\n",
       "    <tr>\n",
       "      <th>4</th>\n",
       "      <td>60133</td>\n",
       "      <td>#NoPasaran: Unity demo to oppose the far-right...</td>\n",
       "      <td>OFF</td>\n",
       "      <td>NOT</td>\n",
       "    </tr>\n",
       "    <tr>\n",
       "      <th>6</th>\n",
       "      <td>96874</td>\n",
       "      <td>#RAP is a form of ART! Used to express yoursel...</td>\n",
       "      <td>NOT</td>\n",
       "      <td>OFF</td>\n",
       "    </tr>\n",
       "    <tr>\n",
       "      <th>7</th>\n",
       "      <td>65507</td>\n",
       "      <td>@USER Do you get the feeling he is kissing @US...</td>\n",
       "      <td>OFF</td>\n",
       "      <td>NOT</td>\n",
       "    </tr>\n",
       "    <tr>\n",
       "      <th>12</th>\n",
       "      <td>15565</td>\n",
       "      <td>#ConsTOO THE PLACE FOR FED UP CONSERVATIVES !!!</td>\n",
       "      <td>NOT</td>\n",
       "      <td>OFF</td>\n",
       "    </tr>\n",
       "    <tr>\n",
       "      <th>...</th>\n",
       "      <td>...</td>\n",
       "      <td>...</td>\n",
       "      <td>...</td>\n",
       "      <td>...</td>\n",
       "    </tr>\n",
       "    <tr>\n",
       "      <th>826</th>\n",
       "      <td>51762</td>\n",
       "      <td>#auspol  I don't know why he is still in his j...</td>\n",
       "      <td>OFF</td>\n",
       "      <td>NOT</td>\n",
       "    </tr>\n",
       "    <tr>\n",
       "      <th>833</th>\n",
       "      <td>78688</td>\n",
       "      <td>#ConfirmKavanugh now, stall tactics are DC cro...</td>\n",
       "      <td>OFF</td>\n",
       "      <td>NOT</td>\n",
       "    </tr>\n",
       "    <tr>\n",
       "      <th>850</th>\n",
       "      <td>31182</td>\n",
       "      <td>1) Wow, safe sex! That's hot! We love a butch ...</td>\n",
       "      <td>NOT</td>\n",
       "      <td>OFF</td>\n",
       "    </tr>\n",
       "    <tr>\n",
       "      <th>855</th>\n",
       "      <td>73439</td>\n",
       "      <td>#DespicableDems lie again about rifles. Dem Di...</td>\n",
       "      <td>OFF</td>\n",
       "      <td>NOT</td>\n",
       "    </tr>\n",
       "    <tr>\n",
       "      <th>858</th>\n",
       "      <td>50665</td>\n",
       "      <td>#WednesdayWisdom Antifa calls the right fascis...</td>\n",
       "      <td>NOT</td>\n",
       "      <td>OFF</td>\n",
       "    </tr>\n",
       "  </tbody>\n",
       "</table>\n",
       "<p>142 rows × 4 columns</p>\n",
       "</div>"
      ],
      "text/plain": [
       "        id                                              tweet true_label   \n",
       "0    15923  #WhoIsQ #WheresTheServer #DumpNike #DECLASFISA...        OFF  \\\n",
       "4    60133  #NoPasaran: Unity demo to oppose the far-right...        OFF   \n",
       "6    96874  #RAP is a form of ART! Used to express yoursel...        NOT   \n",
       "7    65507  @USER Do you get the feeling he is kissing @US...        OFF   \n",
       "12   15565    #ConsTOO THE PLACE FOR FED UP CONSERVATIVES !!!        NOT   \n",
       "..     ...                                                ...        ...   \n",
       "826  51762  #auspol  I don't know why he is still in his j...        OFF   \n",
       "833  78688  #ConfirmKavanugh now, stall tactics are DC cro...        OFF   \n",
       "850  31182  1) Wow, safe sex! That's hot! We love a butch ...        NOT   \n",
       "855  73439  #DespicableDems lie again about rifles. Dem Di...        OFF   \n",
       "858  50665  #WednesdayWisdom Antifa calls the right fascis...        NOT   \n",
       "\n",
       "    bert_label  \n",
       "0          NOT  \n",
       "4          NOT  \n",
       "6          OFF  \n",
       "7          NOT  \n",
       "12         OFF  \n",
       "..         ...  \n",
       "826        NOT  \n",
       "833        NOT  \n",
       "850        OFF  \n",
       "855        NOT  \n",
       "858        OFF  \n",
       "\n",
       "[142 rows x 4 columns]"
      ]
     },
     "execution_count": 39,
     "metadata": {},
     "output_type": "execute_result"
    }
   ],
   "source": [
    "df_wrong = df[df.true_label != df.bert_label]\n",
    "df_wrong"
   ]
  },
  {
   "cell_type": "code",
   "execution_count": 72,
   "id": "81b883fb",
   "metadata": {
    "scrolled": false
   },
   "outputs": [
    {
     "name": "stdout",
     "output_type": "stream",
     "text": [
      "83\n",
      "59\n"
     ]
    }
   ],
   "source": [
    "print(len(df_wrong[df_wrong.true_label == 'OFF']))\n",
    "print(len(df_wrong[df_wrong.true_label == 'NOT']))"
   ]
  },
  {
   "cell_type": "code",
   "execution_count": null,
   "id": "3511cc22",
   "metadata": {},
   "outputs": [],
   "source": []
  }
 ],
 "metadata": {
  "kernelspec": {
   "display_name": "Python 3 (ipykernel)",
   "language": "python",
   "name": "python3"
  },
  "language_info": {
   "codemirror_mode": {
    "name": "ipython",
    "version": 3
   },
   "file_extension": ".py",
   "mimetype": "text/x-python",
   "name": "python",
   "nbconvert_exporter": "python",
   "pygments_lexer": "ipython3",
   "version": "3.8.0"
  }
 },
 "nbformat": 4,
 "nbformat_minor": 5
}
