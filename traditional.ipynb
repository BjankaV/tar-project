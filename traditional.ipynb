{
  "nbformat": 4,
  "nbformat_minor": 0,
  "metadata": {
    "colab": {
      "provenance": []
    },
    "kernelspec": {
      "name": "python3",
      "display_name": "Python 3"
    },
    "language_info": {
      "name": "python"
    }
  },
  "cells": [
    {
      "cell_type": "code",
      "execution_count": null,
      "metadata": {
        "id": "BUIycfcNNlPf"
      },
      "outputs": [],
      "source": [
        "import pandas as pd\n",
        "import string\n",
        "import numpy as np\n",
        "import seaborn as sns \n",
        "import matplotlib.pyplot as plt\n",
        "from collections import Counter\n",
        "import itertools\n",
        "import pickle\n",
        "\n",
        "from sklearn.preprocessing import LabelEncoder\n",
        "from sklearn.feature_extraction.text import TfidfVectorizer\n",
        "from sklearn.metrics import precision_recall_fscore_support, accuracy_score, confusion_matrix\n",
        "from sklearn.metrics import classification_report\n",
        "from sklearn import metrics\n",
        "from sklearn import model_selection, svm\n",
        "from sklearn.model_selection import train_test_split\n",
        "from sklearn.preprocessing import scale,StandardScaler,MinMaxScaler\n",
        "from sklearn.svm import SVC\n",
        "from sklearn.svm import LinearSVC\n",
        "from sklearn.model_selection import StratifiedKFold\n",
        "\n",
        "from warnings import filterwarnings\n",
        "filterwarnings(\"ignore\")\n",
        "\n",
        "import nltk\n",
        "nltk.download('stopwords')\n",
        "from nltk import word_tokenize\n",
        "from nltk.stem.porter import PorterStemmer\n",
        "from nltk.probability import FreqDist\n",
        "from nltk.tokenize import RegexpTokenizer, TweetTokenizer\n",
        "import nltk.corpus\n",
        "from nltk.corpus import stopwords\n",
        "import re\n",
        "\n",
        "!pip install emoji\n",
        "!pip install ekphrasis -U\n",
        "!pip install vaderSentiment\n",
        "!pip install textstat\n",
        "\n",
        "import emoji\n",
        "\n",
        "from ekphrasis.classes.preprocessor import TextPreProcessor\n",
        "from ekphrasis.classes.tokenizer import SocialTokenizer\n",
        "from ekphrasis.dicts.emoticons import emoticons\n",
        "\n",
        "from vaderSentiment.vaderSentiment import SentimentIntensityAnalyzer as VS\n",
        "from textstat.textstat import *"
      ]
    },
    {
      "cell_type": "markdown",
      "source": [
        "#### Load & pre-process"
      ],
      "metadata": {
        "id": "yPT8LeOICvHx"
      }
    },
    {
      "cell_type": "code",
      "source": [
        "# LOAD TEXT PREPROCESSOR\n",
        "\n",
        "# text pre-processor\n",
        "\n",
        "text_processor = TextPreProcessor(\n",
        "    # terms that will be normalized\n",
        "    normalize=['url', 'email', 'percent', 'money', 'phone', 'user',\n",
        "        'time', 'url', 'date', 'number'],\n",
        "    # terms that will be annotated\n",
        "    annotate={\"hashtag\", \"allcaps\", \"elongated\", \"repeated\",\n",
        "        'emphasis', 'censored'},\n",
        "    fix_html=True,\n",
        "    \n",
        "    # corpus from which the word statistics are going to be used \n",
        "    # for word segmentation \n",
        "    segmenter=\"twitter\", \n",
        "    \n",
        "    # corpus from which the word statistics are going to be used \n",
        "    # for spell correction\n",
        "    corrector=\"twitter\", \n",
        "    \n",
        "    unpack_hashtags=True,  # perform word segmentation on hashtags\n",
        "    unpack_contractions=True,  # Unpack contractions (can't -> can not)\n",
        "    spell_correct_elong=True,  # spell correction for elongated words\n",
        "    \n",
        "    tokenizer=SocialTokenizer(lowercase=True).tokenize,\n",
        "    \n",
        "    dicts=[emoticons]\n",
        ")\n",
        "\n",
        "# text pre-processing function\n",
        "\n",
        "def preprocess(text, processor, demojize=False):\n",
        "  if demojize:\n",
        "    text = re.sub(\"_\",\" \", emoji.replace_emoji(text, replace=lambda chars, data_dict: data_dict['en'].replace(':',' ')))\n",
        "  text = \" \".join(text_processor.pre_process_doc(text))\n",
        "  text = text.replace('<allcaps> url </allcaps>', '<url>')\n",
        "  return text\n",
        "\n",
        "# nltk.TweetTokenizer\n",
        "tweet_tokenizer = TweetTokenizer(strip_handles=False)\n"
      ],
      "metadata": {
        "colab": {
          "base_uri": "https://localhost:8080/"
        },
        "id": "C0XMk9-zrJs1",
        "outputId": "46ab9233-c10d-449d-9107-38748203721a"
      },
      "execution_count": 3,
      "outputs": [
        {
          "output_type": "stream",
          "name": "stdout",
          "text": [
            "Word statistics files not found!\n",
            "Downloading... done!\n",
            "Unpacking... done!\n",
            "Reading twitter - 1grams ...\n",
            "generating cache file for faster loading...\n",
            "reading ngrams /root/.ekphrasis/stats/twitter/counts_1grams.txt\n",
            "Reading twitter - 2grams ...\n",
            "generating cache file for faster loading...\n",
            "reading ngrams /root/.ekphrasis/stats/twitter/counts_2grams.txt\n",
            "Reading twitter - 1grams ...\n"
          ]
        }
      ]
    },
    {
      "cell_type": "code",
      "source": [
        "# DEMO: TEXT PREPROCESSOR\n",
        "\n",
        "tweet1 = \"@USER @USER Go home you're drunk!!! @USER #MAGA #Trump2020 👊🇺🇸👊 URL\"\n",
        "tweet2 = '@USER @USER Oh noes! Tough shit.'\n",
        "tweet3 = '@USER You are amazing 💛💛💛'\n",
        "tweet4 = '@USER you are a lying corrupt traitor!!! Nobody wants to hear anymore of your lies!!! #DeepStateCorruption URL'\n",
        "tweet5 = '@USER She should ask a few native Americans what their take on this is.'\n",
        "tweet6 = \"#cancelsouthpark They were liberals when you were still suckin' on your momma's titty at the other woodstock.\"\n",
        "demo_tweets = [tweet1, tweet2, tweet3, tweet4, tweet5, tweet6]\n",
        "\n",
        "# ekphrasis text preprocessor demo\n",
        "print('DEMO: TEXT PROCESSOR')\n",
        "for tweet in demo_tweets:\n",
        "    print(preprocess(tweet, text_processor, demojize=False))\n",
        "\n",
        "print('\\nDEMO: TEXT PROCESSOR + DEMOJIZE')\n",
        "for tweet in demo_tweets:\n",
        "    print(preprocess(tweet, text_processor, demojize=True))\n",
        "\n",
        "print('\\nDEMO: nltk.TweetTokenizer')\n",
        "for tweet in demo_tweets:\n",
        "    print(tweet_tokenizer.tokenize(tweet))\n",
        "\n",
        "print('\\nDEMO: remove emojis')\n",
        "for tweet in demo_tweets:\n",
        "    print(tweet.encode('ascii','ignore').decode('ascii'))"
      ],
      "metadata": {
        "colab": {
          "base_uri": "https://localhost:8080/"
        },
        "id": "fOO8eQ0eOTDc",
        "outputId": "5ed62510-f201-445c-ac35-4c0b515741a4"
      },
      "execution_count": 3,
      "outputs": [
        {
          "output_type": "stream",
          "name": "stdout",
          "text": [
            "DEMO: TEXT PROCESSOR\n",
            "<user> <user> go home you are drunk ! <repeated> <user> <hashtag> maga </hashtag> <hashtag> trump 2020 </hashtag> 👊 🇺 🇸 👊 <url>\n",
            "<user> <user> oh noes ! tough shit .\n",
            "<user> you are amazing 💛 💛 💛\n",
            "<user> you are a lying corrupt traitor ! <repeated> nobody wants to hear anymore of your lies ! <repeated> <hashtag> deep state corruption </hashtag> <url>\n",
            "<user> she should ask a few native americans what their take on this is .\n",
            "<hashtag> cancel south park </hashtag> they were liberals when you were still suckin ' on your momma ' s titty at the other woodstock .\n",
            "\n",
            "DEMO: TEXT PROCESSOR + DEMOJIZE\n",
            "<user> <user> go home you are drunk ! <repeated> <user> <hashtag> maga </hashtag> <hashtag> trump 2020 </hashtag> oncoming fist united states oncoming fist <url>\n",
            "<user> <user> oh noes ! tough shit .\n",
            "<user> you are amazing yellow heart yellow heart yellow heart\n",
            "<user> you are a lying corrupt traitor ! <repeated> nobody wants to hear anymore of your lies ! <repeated> <hashtag> deep state corruption </hashtag> <url>\n",
            "<user> she should ask a few native americans what their take on this is .\n",
            "<hashtag> cancel south park </hashtag> they were liberals when you were still suckin ' on your momma ' s titty at the other woodstock .\n",
            "\n",
            "DEMO: nltk.TweetTokenizer\n",
            "['@USER', '@USER', 'Go', 'home', \"you're\", 'drunk', '!', '!', '!', '@USER', '#MAGA', '#Trump2020', '👊', '🇺🇸', '👊', 'URL']\n",
            "['@USER', '@USER', 'Oh', 'noes', '!', 'Tough', 'shit', '.']\n",
            "['@USER', 'You', 'are', 'amazing', '💛', '💛', '💛']\n",
            "['@USER', 'you', 'are', 'a', 'lying', 'corrupt', 'traitor', '!', '!', '!', 'Nobody', 'wants', 'to', 'hear', 'anymore', 'of', 'your', 'lies', '!', '!', '!', '#DeepStateCorruption', 'URL']\n",
            "['@USER', 'She', 'should', 'ask', 'a', 'few', 'native', 'Americans', 'what', 'their', 'take', 'on', 'this', 'is', '.']\n",
            "['#cancelsouthpark', 'They', 'were', 'liberals', 'when', 'you', 'were', 'still', 'suckin', \"'\", 'on', 'your', \"momma's\", 'titty', 'at', 'the', 'other', 'woodstock', '.']\n",
            "\n",
            "DEMO: remove emojis\n",
            "@USER @USER Go home you're drunk!!! @USER #MAGA #Trump2020  URL\n",
            "@USER @USER Oh noes! Tough shit.\n",
            "@USER You are amazing \n",
            "@USER you are a lying corrupt traitor!!! Nobody wants to hear anymore of your lies!!! #DeepStateCorruption URL\n",
            "@USER She should ask a few native Americans what their take on this is.\n",
            "#cancelsouthpark They were liberals when you were still suckin' on your momma's titty at the other woodstock.\n"
          ]
        }
      ]
    },
    {
      "cell_type": "code",
      "source": [
        "from google.colab import drive\n",
        "drive.mount('/content/drive')"
      ],
      "metadata": {
        "id": "NLlb2BttQ22H"
      },
      "execution_count": null,
      "outputs": []
    },
    {
      "cell_type": "code",
      "source": [
        "# LOAD DATASET\n",
        "\n",
        "train_data=pd.read_csv('/content/drive/My Drive/OLID/olid-training-v1.0.tsv', delimiter='\\t', encoding='utf-8')\n",
        "#train_tweets = train_data[['tweet']]\n",
        "\n",
        "df = train_data[['tweet','subtask_a']]\n",
        "df.head()\n",
        "\n",
        "# normalize punctuation\n",
        "df['tweet'] = df.tweet.str.replace('’',\"'\")\n",
        "df['tweet'] = df.tweet.str.replace('“','\"')\n",
        "df['tweet'] = df.tweet.str.replace('”','\"')\n",
        "df['tweet'] = df.tweet.str.replace('&lt;','')\n",
        "df['tweet'] = df.tweet.str.replace('&gt;','')\n",
        "df['tweet'] = df.tweet.str.replace('&amp;','and')\n",
        "\n",
        "# pre-process\n",
        "df['clean'] = [clean(tweet) for tweet in df['tweet']]\n",
        "\n",
        "processed = [preprocess(tweet, text_processor, demojize=False) for tweet in df['tweet']] \n",
        "processed_demojized = [preprocess(tweet, text_processor, demojize=True) for tweet in df['tweet']]\n",
        "\n",
        "df['processed'] = processed\n",
        "df['processed_demojized'] = processed_demojized \n",
        "\n",
        "# check\n",
        "for t, t_p, t_dp in zip(df['tweet'][:5], df['processed'][:5], df['processed_demojized'][:5]):\n",
        "  print(t)\n",
        "  print(t_p)\n",
        "  print(t_dp)\n",
        "  print()"
      ],
      "metadata": {
        "colab": {
          "base_uri": "https://localhost:8080/"
        },
        "id": "a-LwcNWIyT5W",
        "outputId": "ae66ff58-9900-4e6a-c9c0-250c49f40c7e"
      },
      "execution_count": 7,
      "outputs": [
        {
          "output_type": "stream",
          "name": "stdout",
          "text": [
            "@USER She should ask a few native Americans what their take on this is.\n",
            "<user> she should ask a few native americans what their take on this is .\n",
            "<user> she should ask a few native americans what their take on this is .\n",
            "\n",
            "@USER @USER Go home you're drunk!!! @USER #MAGA #Trump2020 👊🇺🇸👊 URL\n",
            "<user> <user> go home you are drunk ! <repeated> <user> <hashtag> maga </hashtag> <hashtag> trump 2020 </hashtag> 👊 🇺 🇸 👊 <url>\n",
            "<user> <user> go home you are drunk ! <repeated> <user> <hashtag> maga </hashtag> <hashtag> trump 2020 </hashtag> oncoming fist united states oncoming fist <url>\n",
            "\n",
            "Amazon is investigating Chinese employees who are selling internal data to third-party sellers looking for an edge in the competitive marketplace. URL #Amazon #MAGA #KAG #CHINA #TCOT\n",
            "amazon is investigating chinese employees who are selling internal data to third - party sellers looking for an edge in the competitive marketplace . <url> <hashtag> amazon </hashtag> <hashtag> maga </hashtag> <hashtag> kag </hashtag> <hashtag> china </hashtag> <hashtag> tcot </hashtag>\n",
            "amazon is investigating chinese employees who are selling internal data to third - party sellers looking for an edge in the competitive marketplace . <url> <hashtag> amazon </hashtag> <hashtag> maga </hashtag> <hashtag> kag </hashtag> <hashtag> china </hashtag> <hashtag> tcot </hashtag>\n",
            "\n",
            "@USER Someone should'veTaken\" this piece of shit to a volcano. 😂\"\n",
            "<user> someone should havetaken \" this piece of shit to a volcano . 😂 \"\n",
            "<user> someone should havetaken \" this piece of shit to a volcano . face with tears of joy \"\n",
            "\n",
            "@USER @USER Obama wanted liberals and illegals to move into red states\n",
            "<user> <user> obama wanted liberals and illegals to move into red states\n",
            "<user> <user> obama wanted liberals and illegals to move into red states\n",
            "\n"
          ]
        }
      ]
    },
    {
      "cell_type": "code",
      "source": [
        "# functions for cleaning/stemming\n",
        "\n",
        "def clean(tweet):\n",
        "    tweet = tweet.replace('@USER', '')\n",
        "    tweet = tweet.replace('URL', '')\n",
        "    tweet = tweet.replace('\\d+','')\n",
        "    tweet = tweet.lower()\n",
        "\n",
        "    # remove punctuation\n",
        "    for punctuation in string.punctuation:\n",
        "       tweet = tweet.replace(punctuation, '')\n",
        "\n",
        "    # remove emojis\n",
        "    tweet = tweet.encode('ascii','ignore').decode('ascii')\n",
        "\n",
        "    return tweet.strip()\n",
        "\n",
        "def remove_special(text):\n",
        "    # remove punctuations and special tags <>\n",
        "    text = re.sub(\"<[^>]+>\",\"\", text)\n",
        "    tknzr = TweetTokenizer(strip_handles=True)\n",
        "    tokens = tknzr.tokenize(text)\n",
        "    clean_tweet = ''\n",
        "    for t in tokens:\n",
        "      if t not in string.punctuation:\n",
        "        clean_tweet = clean_tweet + ' ' + t\n",
        "    return clean_tweet.strip()\n",
        "\n",
        "def stem_new(text, remove_stopwords=False):\n",
        "    text = re.sub(\"<[^>]+>\",\"\", text)\n",
        "    text = text.encode('ascii','ignore').decode('ascii') # remove emojis\n",
        "    tknzr = TweetTokenizer(strip_handles=True)\n",
        "    tokens = tknzr.tokenize(text)\n",
        "\n",
        "    stemmer = PorterStemmer()\n",
        "    stems = ''\n",
        "\n",
        "    for t in tokens:\n",
        "        if t not in string.punctuation:\n",
        "          if remove_stopwords:\n",
        "            if t not in stopwords.words('english'):\n",
        "              s = stemmer.stem(t)\n",
        "              stems = stems + ' ' + s\n",
        "          else:\n",
        "            s = stemmer.stem(t)\n",
        "            stems = stems + ' ' + s\n",
        "\n",
        "    return stems.strip()\n"
      ],
      "metadata": {
        "id": "bYzD5UShQP1m"
      },
      "execution_count": 8,
      "outputs": []
    },
    {
      "cell_type": "code",
      "source": [
        "# tweets without punctuation and special tags <>, with emojis mapped to words\n",
        "df['words_demojized'] = [remove_special(tweet) for tweet in df['processed_demojized']]\n",
        "\n",
        "# stems\n",
        "\n",
        "# stems (no punctuation, no special tags <>, no stopwords, no emojis)\n",
        "df['stems'] = [stem_new(tweet, remove_stopwords=True) for tweet in df['processed']]\n",
        "# stems (no punctuation, no special tags <>, no stopwords, with emojis mapped to words)\n",
        "df['stems_demojized'] = [stem_new(tweet, remove_stopwords=True) for tweet in df['processed_demojized']]"
      ],
      "metadata": {
        "id": "N3DS2P9i_xkk"
      },
      "execution_count": 9,
      "outputs": []
    },
    {
      "cell_type": "code",
      "source": [
        "df.head()"
      ],
      "metadata": {
        "colab": {
          "base_uri": "https://localhost:8080/",
          "height": 424
        },
        "id": "0Qj0GFK7eAtD",
        "outputId": "54e06429-ca31-43b2-e00a-0f8fb422480b"
      },
      "execution_count": 14,
      "outputs": [
        {
          "output_type": "execute_result",
          "data": {
            "text/plain": [
              "                                               tweet subtask_a  \\\n",
              "0  @USER She should ask a few native Americans wh...       OFF   \n",
              "1  @USER @USER Go home you're drunk!!! @USER #MAG...       OFF   \n",
              "2  Amazon is investigating Chinese employees who ...       NOT   \n",
              "3  @USER Someone should'veTaken\" this piece of sh...       OFF   \n",
              "4  @USER @USER Obama wanted liberals and illegals...       NOT   \n",
              "\n",
              "                                               clean  \\\n",
              "0  she should ask a few native americans what the...   \n",
              "1                go home youre drunk  maga trump2020   \n",
              "2  amazon is investigating chinese employees who ...   \n",
              "3  someone shouldvetaken this piece of shit to a ...   \n",
              "4  obama wanted liberals and illegals to move int...   \n",
              "\n",
              "                                           processed  \\\n",
              "0  <user> she should ask a few native americans w...   \n",
              "1  <user> <user> go home you are drunk ! <repeate...   \n",
              "2  amazon is investigating chinese employees who ...   \n",
              "3  <user> someone should havetaken \" this piece o...   \n",
              "4  <user> <user> obama wanted liberals and illega...   \n",
              "\n",
              "                                 processed_demojized  \\\n",
              "0  <user> she should ask a few native americans w...   \n",
              "1  <user> <user> go home you are drunk ! <repeate...   \n",
              "2  amazon is investigating chinese employees who ...   \n",
              "3  <user> someone should havetaken \" this piece o...   \n",
              "4  <user> <user> obama wanted liberals and illega...   \n",
              "\n",
              "                                     words_demojized  \\\n",
              "0  she should ask a few native americans what the...   \n",
              "1  go home you are drunk maga trump 2020 oncoming...   \n",
              "2  amazon is investigating chinese employees who ...   \n",
              "3  someone should havetaken this piece of shit to...   \n",
              "4  obama wanted liberals and illegals to move int...   \n",
              "\n",
              "                                               stems  \\\n",
              "0                            ask nativ american take   \n",
              "1                      go home drunk maga trump 2020   \n",
              "2  amazon investig chines employe sell intern dat...   \n",
              "3                 someon havetaken piec shit volcano   \n",
              "4              obama want liber illeg move red state   \n",
              "\n",
              "                                     stems_demojized  \n",
              "0                            ask nativ american take  \n",
              "1  go home drunk maga trump 2020 oncom fist unit ...  \n",
              "2  amazon investig chines employe sell intern dat...  \n",
              "3   someon havetaken piec shit volcano face tear joy  \n",
              "4              obama want liber illeg move red state  "
            ],
            "text/html": [
              "\n",
              "  <div id=\"df-dd1a4541-514e-4c27-b90f-e0ab6a1c8689\">\n",
              "    <div class=\"colab-df-container\">\n",
              "      <div>\n",
              "<style scoped>\n",
              "    .dataframe tbody tr th:only-of-type {\n",
              "        vertical-align: middle;\n",
              "    }\n",
              "\n",
              "    .dataframe tbody tr th {\n",
              "        vertical-align: top;\n",
              "    }\n",
              "\n",
              "    .dataframe thead th {\n",
              "        text-align: right;\n",
              "    }\n",
              "</style>\n",
              "<table border=\"1\" class=\"dataframe\">\n",
              "  <thead>\n",
              "    <tr style=\"text-align: right;\">\n",
              "      <th></th>\n",
              "      <th>tweet</th>\n",
              "      <th>subtask_a</th>\n",
              "      <th>clean</th>\n",
              "      <th>processed</th>\n",
              "      <th>processed_demojized</th>\n",
              "      <th>words_demojized</th>\n",
              "      <th>stems</th>\n",
              "      <th>stems_demojized</th>\n",
              "    </tr>\n",
              "  </thead>\n",
              "  <tbody>\n",
              "    <tr>\n",
              "      <th>0</th>\n",
              "      <td>@USER She should ask a few native Americans wh...</td>\n",
              "      <td>OFF</td>\n",
              "      <td>she should ask a few native americans what the...</td>\n",
              "      <td>&lt;user&gt; she should ask a few native americans w...</td>\n",
              "      <td>&lt;user&gt; she should ask a few native americans w...</td>\n",
              "      <td>she should ask a few native americans what the...</td>\n",
              "      <td>ask nativ american take</td>\n",
              "      <td>ask nativ american take</td>\n",
              "    </tr>\n",
              "    <tr>\n",
              "      <th>1</th>\n",
              "      <td>@USER @USER Go home you're drunk!!! @USER #MAG...</td>\n",
              "      <td>OFF</td>\n",
              "      <td>go home youre drunk  maga trump2020</td>\n",
              "      <td>&lt;user&gt; &lt;user&gt; go home you are drunk ! &lt;repeate...</td>\n",
              "      <td>&lt;user&gt; &lt;user&gt; go home you are drunk ! &lt;repeate...</td>\n",
              "      <td>go home you are drunk maga trump 2020 oncoming...</td>\n",
              "      <td>go home drunk maga trump 2020</td>\n",
              "      <td>go home drunk maga trump 2020 oncom fist unit ...</td>\n",
              "    </tr>\n",
              "    <tr>\n",
              "      <th>2</th>\n",
              "      <td>Amazon is investigating Chinese employees who ...</td>\n",
              "      <td>NOT</td>\n",
              "      <td>amazon is investigating chinese employees who ...</td>\n",
              "      <td>amazon is investigating chinese employees who ...</td>\n",
              "      <td>amazon is investigating chinese employees who ...</td>\n",
              "      <td>amazon is investigating chinese employees who ...</td>\n",
              "      <td>amazon investig chines employe sell intern dat...</td>\n",
              "      <td>amazon investig chines employe sell intern dat...</td>\n",
              "    </tr>\n",
              "    <tr>\n",
              "      <th>3</th>\n",
              "      <td>@USER Someone should'veTaken\" this piece of sh...</td>\n",
              "      <td>OFF</td>\n",
              "      <td>someone shouldvetaken this piece of shit to a ...</td>\n",
              "      <td>&lt;user&gt; someone should havetaken \" this piece o...</td>\n",
              "      <td>&lt;user&gt; someone should havetaken \" this piece o...</td>\n",
              "      <td>someone should havetaken this piece of shit to...</td>\n",
              "      <td>someon havetaken piec shit volcano</td>\n",
              "      <td>someon havetaken piec shit volcano face tear joy</td>\n",
              "    </tr>\n",
              "    <tr>\n",
              "      <th>4</th>\n",
              "      <td>@USER @USER Obama wanted liberals and illegals...</td>\n",
              "      <td>NOT</td>\n",
              "      <td>obama wanted liberals and illegals to move int...</td>\n",
              "      <td>&lt;user&gt; &lt;user&gt; obama wanted liberals and illega...</td>\n",
              "      <td>&lt;user&gt; &lt;user&gt; obama wanted liberals and illega...</td>\n",
              "      <td>obama wanted liberals and illegals to move int...</td>\n",
              "      <td>obama want liber illeg move red state</td>\n",
              "      <td>obama want liber illeg move red state</td>\n",
              "    </tr>\n",
              "  </tbody>\n",
              "</table>\n",
              "</div>\n",
              "      <button class=\"colab-df-convert\" onclick=\"convertToInteractive('df-dd1a4541-514e-4c27-b90f-e0ab6a1c8689')\"\n",
              "              title=\"Convert this dataframe to an interactive table.\"\n",
              "              style=\"display:none;\">\n",
              "        \n",
              "  <svg xmlns=\"http://www.w3.org/2000/svg\" height=\"24px\"viewBox=\"0 0 24 24\"\n",
              "       width=\"24px\">\n",
              "    <path d=\"M0 0h24v24H0V0z\" fill=\"none\"/>\n",
              "    <path d=\"M18.56 5.44l.94 2.06.94-2.06 2.06-.94-2.06-.94-.94-2.06-.94 2.06-2.06.94zm-11 1L8.5 8.5l.94-2.06 2.06-.94-2.06-.94L8.5 2.5l-.94 2.06-2.06.94zm10 10l.94 2.06.94-2.06 2.06-.94-2.06-.94-.94-2.06-.94 2.06-2.06.94z\"/><path d=\"M17.41 7.96l-1.37-1.37c-.4-.4-.92-.59-1.43-.59-.52 0-1.04.2-1.43.59L10.3 9.45l-7.72 7.72c-.78.78-.78 2.05 0 2.83L4 21.41c.39.39.9.59 1.41.59.51 0 1.02-.2 1.41-.59l7.78-7.78 2.81-2.81c.8-.78.8-2.07 0-2.86zM5.41 20L4 18.59l7.72-7.72 1.47 1.35L5.41 20z\"/>\n",
              "  </svg>\n",
              "      </button>\n",
              "      \n",
              "  <style>\n",
              "    .colab-df-container {\n",
              "      display:flex;\n",
              "      flex-wrap:wrap;\n",
              "      gap: 12px;\n",
              "    }\n",
              "\n",
              "    .colab-df-convert {\n",
              "      background-color: #E8F0FE;\n",
              "      border: none;\n",
              "      border-radius: 50%;\n",
              "      cursor: pointer;\n",
              "      display: none;\n",
              "      fill: #1967D2;\n",
              "      height: 32px;\n",
              "      padding: 0 0 0 0;\n",
              "      width: 32px;\n",
              "    }\n",
              "\n",
              "    .colab-df-convert:hover {\n",
              "      background-color: #E2EBFA;\n",
              "      box-shadow: 0px 1px 2px rgba(60, 64, 67, 0.3), 0px 1px 3px 1px rgba(60, 64, 67, 0.15);\n",
              "      fill: #174EA6;\n",
              "    }\n",
              "\n",
              "    [theme=dark] .colab-df-convert {\n",
              "      background-color: #3B4455;\n",
              "      fill: #D2E3FC;\n",
              "    }\n",
              "\n",
              "    [theme=dark] .colab-df-convert:hover {\n",
              "      background-color: #434B5C;\n",
              "      box-shadow: 0px 1px 3px 1px rgba(0, 0, 0, 0.15);\n",
              "      filter: drop-shadow(0px 1px 2px rgba(0, 0, 0, 0.3));\n",
              "      fill: #FFFFFF;\n",
              "    }\n",
              "  </style>\n",
              "\n",
              "      <script>\n",
              "        const buttonEl =\n",
              "          document.querySelector('#df-dd1a4541-514e-4c27-b90f-e0ab6a1c8689 button.colab-df-convert');\n",
              "        buttonEl.style.display =\n",
              "          google.colab.kernel.accessAllowed ? 'block' : 'none';\n",
              "\n",
              "        async function convertToInteractive(key) {\n",
              "          const element = document.querySelector('#df-dd1a4541-514e-4c27-b90f-e0ab6a1c8689');\n",
              "          const dataTable =\n",
              "            await google.colab.kernel.invokeFunction('convertToInteractive',\n",
              "                                                     [key], {});\n",
              "          if (!dataTable) return;\n",
              "\n",
              "          const docLinkHtml = 'Like what you see? Visit the ' +\n",
              "            '<a target=\"_blank\" href=https://colab.research.google.com/notebooks/data_table.ipynb>data table notebook</a>'\n",
              "            + ' to learn more about interactive tables.';\n",
              "          element.innerHTML = '';\n",
              "          dataTable['output_type'] = 'display_data';\n",
              "          await google.colab.output.renderOutput(dataTable, element);\n",
              "          const docLink = document.createElement('div');\n",
              "          docLink.innerHTML = docLinkHtml;\n",
              "          element.appendChild(docLink);\n",
              "        }\n",
              "      </script>\n",
              "    </div>\n",
              "  </div>\n",
              "  "
            ]
          },
          "metadata": {},
          "execution_count": 14
        }
      ]
    },
    {
      "cell_type": "code",
      "source": [
        "# NOT / OFF count\n",
        "\n",
        "def plot_classes(df, column_name):\n",
        "    plt.figure(figsize=(6,4))\n",
        "    print(df.groupby(column_name)[column_name].count())\n",
        "    df.groupby(column_name)[column_name].count().plot.bar(ylim=0)\n",
        "    plt.show()\n",
        "\n",
        "plot_classes(df,\"subtask_a\")"
      ],
      "metadata": {
        "colab": {
          "base_uri": "https://localhost:8080/",
          "height": 473
        },
        "id": "YTCpzPnPa3TQ",
        "outputId": "047b8770-268c-4d74-e656-12f45ea7056f"
      },
      "execution_count": 66,
      "outputs": [
        {
          "output_type": "stream",
          "name": "stdout",
          "text": [
            "subtask_a\n",
            "NOT    8840\n",
            "OFF    4400\n",
            "Name: subtask_a, dtype: int64\n"
          ]
        },
        {
          "output_type": "display_data",
          "data": {
            "text/plain": [
              "<Figure size 600x400 with 1 Axes>"
            ],
            "image/png": "[encoded data removed]"
          },
          "metadata": {}
        }
      ]
    },
    {
      "cell_type": "code",
      "source": [
        "# most common non-stopword stems in offensive/not offensive tweets\n",
        "\n",
        "df_off = df[df.subtask_a ==\"OFF\"]\n",
        "df_not = df[df.subtask_a ==\"NOT\"] \n",
        "\n",
        "off_count = Counter(\" \".join(df_off['stems']).split())\n",
        "print('OFF', off_count.most_common(10))\n",
        "\n",
        "not_count = Counter(\" \".join(df_not['stems']).split())\n",
        "print('NOT', not_count.most_common(10))"
      ],
      "metadata": {
        "colab": {
          "base_uri": "https://localhost:8080/"
        },
        "id": "trSqHAWQ_6VH",
        "outputId": "a01b6dff-0096-43ac-d0e6-fe361b55333c"
      },
      "execution_count": 67,
      "outputs": [
        {
          "output_type": "stream",
          "name": "stdout",
          "text": [
            "OFF [('liber', 664), ('gun', 577), ('like', 509), ('control', 468), ('peopl', 391), ('shit', 338), ('get', 338), ('fuck', 334), ('antifa', 330), ('go', 314)]\n",
            "NOT [('liber', 1032), ('gun', 992), ('antifa', 877), ('control', 805), ('conserv', 791), ('maga', 746), ('like', 701), ('get', 573), ('peopl', 572), ('trump', 507)]\n"
          ]
        }
      ]
    },
    {
      "cell_type": "code",
      "source": [
        "#print(np.unique(re.findall('<[^>]+>', \" \".join(df['processed']))))"
      ],
      "metadata": {
        "id": "xA3_-eOMGWay"
      },
      "execution_count": null,
      "outputs": []
    },
    {
      "cell_type": "markdown",
      "source": [
        "#### Feature extraction"
      ],
      "metadata": {
        "id": "Z7-nGls_DEXM"
      }
    },
    {
      "cell_type": "code",
      "source": [
        "# LOAD SENTIMENT ANALYZER\n",
        "\n",
        "sentiment_analyzer = VS()"
      ],
      "metadata": {
        "id": "BlWWAuS9DS_f"
      },
      "execution_count": 12,
      "outputs": []
    },
    {
      "cell_type": "code",
      "source": [
        "# DEMO: SENTIMENT ANALYZER\n",
        "\n",
        "tweet1 = \"@USER @USER Go home you're drunk!!! @USER #MAGA #Trump2020 👊🇺🇸👊 URL\"\n",
        "tweet2 = '@USER @USER Oh noes! Tough shit.'\n",
        "tweet3 = '@USER You are amazing 💛💛💛'\n",
        "tweet4 = '@USER you are a lying corrupt traitor!!! Nobody wants to hear anymore of your lies!!! #DeepStateCorruption URL'\n",
        "tweet5 = '@USER She should ask a few native Americans what their take on this is.'\n",
        "tweet6 = \"#cancelsouthpark They were liberals when you were still suckin' on your momma's titty at the other woodstock.\"\n",
        "demo_tweets = [tweet1, tweet2, tweet3, tweet4, tweet5, tweet6]\n",
        "\n",
        "# sentiment analyzer\n",
        "\n",
        "print('DEMO: SENTIMENT ANALYZER')\n",
        "print('neg', '\\t', 'pos', '\\t', 'neu', '\\t', 'compound')\n",
        "\n",
        "for tweet in demo_tweets:\n",
        "  sentiment = sentiment_analyzer.polarity_scores(tweet)\n",
        "  print(sentiment['neg'], '\\t', sentiment['pos'], '\\t', sentiment['neu'], '\\t', sentiment['compound'])"
      ],
      "metadata": {
        "colab": {
          "base_uri": "https://localhost:8080/"
        },
        "id": "mpKD4xMSDH4M",
        "outputId": "070158e6-24ec-4e43-fdfb-2fcbfda17e63"
      },
      "execution_count": null,
      "outputs": [
        {
          "output_type": "stream",
          "name": "stdout",
          "text": [
            "DEMO: SENTIMENT ANALYZER\n",
            "neg \t pos \t neu \t compound\n",
            "0.201 \t 0.0 \t 0.799 \t -0.5067\n",
            "0.574 \t 0.0 \t 0.426 \t -0.6588\n",
            "0.0 \t 0.732 \t 0.268 \t 0.9545\n",
            "0.329 \t 0.0 \t 0.671 \t -0.811\n",
            "0.0 \t 0.0 \t 1.0 \t 0.0\n",
            "0.0 \t 0.0 \t 1.0 \t 0.0\n"
          ]
        }
      ]
    },
    {
      "cell_type": "code",
      "source": [
        "# FEATURE EXTRACTION FUNCTIONS (sentiment, readability scores, count of <user>/<hashtag>/...)\n",
        "\n",
        "# get sentiment scores\n",
        "\n",
        "names_sent = [\"vader neg\",\"vader pos\",\"vader neu\", \"vader compound\"]\n",
        "\n",
        "def get_sent(tweet, sentiment_analyzer):\n",
        "  sentiment = sentiment_analyzer.polarity_scores(tweet)  \n",
        "  return [sentiment['neg'], sentiment['pos'], sentiment['neu'], sentiment['compound']]\n",
        "\n",
        "\n",
        "# count objects <>\n",
        "\n",
        "names_obj = [\"num_hashtags\", \"num_mentions\", \"num_urls\", \n",
        "              \"num_repeated\",\"num_elongated\", \"num_censored\", \"num_allcaps\",\"num_emphasis\",\n",
        "              \"num_time\",\"num_date\",\"num_number\",\"num_percent\",\"num_money\"]\n",
        "\n",
        "def find_objs(tweet, obj):\n",
        "  #print('find_objs', tweet)\n",
        "  return re.findall(obj, tweet)  \n",
        "\n",
        "def count_objs(tweet):  \n",
        "    counts = {\n",
        "        'url': len(find_objs(tweet, '<url>')),\n",
        "        'user': len(find_objs(tweet, '<user>')),\n",
        "        'hashtag': len(find_objs(tweet, '<hashtag>')),\n",
        "        'repeated': len(find_objs(tweet, '<repeated>')),\n",
        "        'elongated': len(find_objs(tweet, '<elongated>')),\n",
        "        'censored': len(find_objs(tweet, '<censored>')),\n",
        "        'allcaps': len(find_objs(tweet, '<allcaps>')),\n",
        "        'emphasis': len(find_objs(tweet, '<emphasis>')),\n",
        "        'time': len(find_objs(tweet, '<time>')),\n",
        "        'date': len(find_objs(tweet, '<date>')),\n",
        "        'number': len(find_objs(tweet, '<number>')),\n",
        "        'percent': len(find_objs(tweet, '<percent>')),\n",
        "        'money': len(find_objs(tweet, '<money>')),\n",
        "    }\n",
        "    return counts\n",
        "\n",
        "def get_obj_counts(tweet):\n",
        "  twitter_objs = count_objs(tweet)\n",
        "  return [\n",
        "      twitter_objs['hashtag'], twitter_objs['user'], twitter_objs['url'],\n",
        "      twitter_objs[\"repeated\"],twitter_objs[\"elongated\"],twitter_objs[\"censored\"],twitter_objs[\"allcaps\"],twitter_objs[\"emphasis\"],\n",
        "      twitter_objs[\"time\"],twitter_objs[\"date\"],twitter_objs[\"number\"],twitter_objs[\"percent\"],twitter_objs[\"money\"]\n",
        "        ]\n",
        "\n",
        "# other features\n",
        "\n",
        "names_other = [\"FKRA\", \"FRE\",\"num_syllables\", \"avg_syl_per_word\", \"num_chars\", \"num_chars_total\", \\\n",
        "                        \"num_terms\", \"num_words\", \"num_unique_words\", \"num_punct\"]\n",
        "\n",
        "def get_other(tweet):\n",
        "    \"\"\"This function takes a string and returns a list of features.\n",
        "    These include Sentiment scores, Text and Readability scores,\n",
        "    as well as Twitter specific features\"\"\"\n",
        "   \n",
        "    words = tweet\n",
        "    \n",
        "    syllables = textstat.syllable_count(words) #count syllables in words\n",
        "    num_chars = sum(len(w) for w in words) #num chars in words\n",
        "    num_chars_total = len(tweet)\n",
        "    num_terms = len(tweet.split())\n",
        "    num_words = len(words.split())\n",
        "    avg_syl = round(float((syllables+0.001))/float(num_words+0.001),4)\n",
        "    num_unique_terms = len(set(words.split()))\n",
        "    \n",
        "    # Modified FK grade, where avg words per sentence is just num words/1\n",
        "    FKRA = round(float(0.39 * float(num_words)/1.0) + float(11.8 * avg_syl) - 15.59,1)\n",
        "\n",
        "    # Modified FRE score, where sentence fixed to 1\n",
        "    FRE = round(206.835 - 1.015*(float(num_words)/1.0) - (84.6*float(avg_syl)),2)\n",
        "\n",
        "    punct = set(string.punctuation)\n",
        "    punct.remove('#')\n",
        "    num_punct = len([c for c in tweet if c in punct])\n",
        "    \n",
        "    features = [FKRA, FRE, syllables, avg_syl, num_chars, num_chars_total, num_terms, num_words,\n",
        "                num_unique_terms, num_punct\n",
        "                ]\n",
        "    return features\n",
        "\n",
        "\n",
        "names_all = names_other + names_sent + names_obj\n",
        "\n",
        "def get_feature_array(df, extract_features=['other','sent','obj']):\n",
        "    # get features for all tweets\n",
        "    feats_all = []\n",
        "    feats_sent = []\n",
        "    feats_obj = []\n",
        "    feats_other = []\n",
        "    if 'other' in extract_features:\n",
        "      for t in df['tweet']:\n",
        "        feats_other.append(get_other(t))\n",
        "      feats_all.append(feats_other)\n",
        "    if 'sent' in extract_features:\n",
        "      for t in df['tweet']:\n",
        "        feats_sent.append(get_sent(t, sentiment_analyzer))\n",
        "      feats_all.append(feats_sent)\n",
        "    if 'obj' in extract_features:\n",
        "      for t in df['processed']:\n",
        "          feats_obj.append(get_obj_counts(t))\n",
        "      feats_all.append(feats_obj)\n",
        "    return np.concatenate(feats_all, axis=1)\n"
      ],
      "metadata": {
        "id": "Tcd5iUMhSH_u"
      },
      "execution_count": 13,
      "outputs": []
    },
    {
      "cell_type": "code",
      "source": [
        "# DEMO: OTHER FEATURES\n",
        "\n",
        "print(df['tweet'][0])\n",
        "print(df['tweet'][1])\n",
        "print()\n",
        "print('OTHER:',get_other(df['tweet'][0]))\n",
        "print('OTHER:',get_other(df['tweet'][1]))\n",
        "print()\n",
        "print('OBJ COUNTS:',get_obj_counts(df['processed'][0]))\n",
        "print('OBJ COUNTS:',get_obj_counts(df['processed'][1]))\n",
        "print()\n",
        "print('SENTIMENT:',get_sent(df['tweet'][0], sentiment_analyzer))\n",
        "print('SENTIMENT:',get_sent(df['tweet'][1], sentiment_analyzer))\n",
        "print()\n",
        "print(get_feature_array(df[['tweet','processed']][0:2]))"
      ],
      "metadata": {
        "colab": {
          "base_uri": "https://localhost:8080/"
        },
        "id": "lKXxVLMwBdYU",
        "outputId": "c41b9fcc-d37e-4a6e-89a8-b5c6dc5b8059"
      },
      "execution_count": 48,
      "outputs": [
        {
          "output_type": "stream",
          "name": "stdout",
          "text": [
            "@USER She should ask a few native Americans what their take on this is.\n",
            "@USER @USER Go home you're drunk!!! @USER #MAGA #Trump2020 👊🇺🇸👊 URL\n",
            "\n",
            "OTHER: [5.0, 83.85, 18, 1.2857, 71, 71, 14, 14, 14, 2]\n",
            "OTHER: [3.7, 88.0, 14, 1.2727, 67, 67, 11, 11, 9, 7]\n",
            "\n",
            "OBJ COUNTS: [0, 1, 0, 0, 0, 0, 0, 0, 0, 0, 0, 0, 0]\n",
            "OBJ COUNTS: [2, 3, 1, 1, 0, 0, 0, 0, 0, 0, 0, 0, 0]\n",
            "\n",
            "SENTIMENT: [0.0, 0.0, 1.0, 0.0]\n",
            "SENTIMENT: [0.201, 0.0, 0.799, -0.5067]\n",
            "\n",
            "[[ 5.     83.85   18.      1.2857 71.     71.     14.     14.     14.\n",
            "   2.      0.      0.      1.      0.      0.      1.      0.      0.\n",
            "   0.      0.      0.      0.      0.      0.      0.      0.      0.    ]\n",
            " [ 3.7    88.     14.      1.2727 67.     67.     11.     11.      9.\n",
            "   7.      0.201   0.      0.799  -0.5067  2.      3.      1.      1.\n",
            "   0.      0.      0.      0.      0.      0.      0.      0.      0.    ]]\n"
          ]
        }
      ]
    },
    {
      "cell_type": "code",
      "source": [
        "# EXTRACT FEATURES\n",
        "\n",
        "extracted_other_obj_sent = get_feature_array(df[['tweet','processed']])\n",
        "\n",
        "extracted_other = get_feature_array(df[['tweet','processed']], extract_features=['other'])\n",
        "extracted_sent = get_feature_array(df[['tweet','processed']], extract_features=['sent'])\n",
        "extracted_obj = get_feature_array(df[['tweet','processed']], extract_features=['obj'])\n",
        "\n",
        "print(extracted_other.shape, extracted_sent.shape, extracted_obj.shape)"
      ],
      "metadata": {
        "colab": {
          "base_uri": "https://localhost:8080/"
        },
        "id": "iSvNugKUGccl",
        "outputId": "5a4ae926-724d-416a-91a5-d2085d082a1f"
      },
      "execution_count": 32,
      "outputs": [
        {
          "output_type": "stream",
          "name": "stdout",
          "text": [
            "(13240, 10) (13240, 4) (13240, 13)\n"
          ]
        }
      ]
    },
    {
      "cell_type": "code",
      "source": [
        "# ENCODE LABELS\n",
        "\n",
        "encoder = LabelEncoder()\n",
        "y = encoder.fit_transform(df['subtask_a'])\n",
        "\n",
        "name_mapping = dict(zip(encoder.classes_, encoder.transform(encoder.classes_)))\n",
        "print('labels:', name_mapping)\n"
      ],
      "metadata": {
        "colab": {
          "base_uri": "https://localhost:8080/"
        },
        "id": "USv0cmqXasHC",
        "outputId": "307ff1cc-e1b9-4673-a029-f6774c47b2fd"
      },
      "execution_count": 17,
      "outputs": [
        {
          "output_type": "stream",
          "name": "stdout",
          "text": [
            "labels: {'NOT': 0, 'OFF': 1}\n"
          ]
        }
      ]
    },
    {
      "cell_type": "markdown",
      "source": [
        "#### Validation"
      ],
      "metadata": {
        "id": "fd9UYMfiOVwg"
      }
    },
    {
      "cell_type": "code",
      "source": [
        "skf = StratifiedKFold(n_splits=6)\n",
        "\n",
        "\n",
        "# functions to calculate avg results\n",
        "\n",
        "def get_results(classification_reports):\n",
        "  # calculate mean from list of classification reports\n",
        "  results = dict()\n",
        "  results['accuracy'] = np.mean([report['accuracy'] for report in classification_reports])\n",
        "  for r in ['0','1','macro avg','weighted avg']:\n",
        "    results[r] = dict()\n",
        "    for metric in ['precision','recall','f1-score']:\n",
        "      results[r][metric] = np.mean([report[r][metric] for report in classification_reports])\n",
        "  return results\n",
        "\n",
        "def print_results(results):\n",
        "  print('{:15s}'.format('accuracy'), results['accuracy'])\n",
        "  for r in ['0','1','macro avg','weighted avg']:\n",
        "    print('{:15s}'.format(r), end=' ')\n",
        "    for metric, name in zip(['precision','recall','f1-score'],['P:','R:','F1:']):\n",
        "      print(name, results[r][metric])\n",
        "\n",
        "\n",
        "# function for cross validation\n",
        "\n",
        "def cross_validate(vectorizer, tfidf_column, model, extract_features=['other','sent','obj'], verbose=False):\n",
        "\n",
        "  classification_reports = []\n",
        "\n",
        "  iter = 0\n",
        "  for indices_train, indices_val in skf.split(df, y):\n",
        "    if iter == 1:\n",
        "      break\n",
        "    iter += 1\n",
        "\n",
        "    if verbose:\n",
        "      print('(NOT, OFF) | train: {} | test: {}'.format(tuple(np.bincount(y[indices_train])), tuple(np.bincount(y[indices_val]))), end=' ')\n",
        "\n",
        "    df_train, y_train = df.loc[df.index[indices_train]], y[indices_train]\n",
        "    df_val, y_val = df.loc[df.index[indices_val]], y[indices_val]\n",
        "\n",
        "    tfidf_train = vectorizer.fit_transform(df_train[tfidf_column]).toarray()\n",
        "    tfidf_val = vectorizer.transform(df_val[tfidf_column]).toarray()\n",
        "\n",
        "    X_train = pd.DataFrame(np.concatenate([tfidf_train],axis=1)) #, extracted_other[indices_train], extracted_sent[indices_train], extracted_obj[indices_train]\n",
        "    X_val = pd.DataFrame(np.concatenate([tfidf_val],axis=1)) #, extracted_other[indices_val], extracted_sent[indices_val], extracted_obj[indices_val]\n",
        "\n",
        "    model = model.fit(X_train, y_train)\n",
        "\n",
        "    y_pred = model.predict(X_val)\n",
        "    report = classification_report(y_val, y_pred, output_dict=True)\n",
        "    classification_reports.append(report)\n",
        "\n",
        "    if verbose:\n",
        "      print('| macro avg f1-score: {:.6f}'.format(report['macro avg']['f1-score']))\n",
        "  return classification_reports[0]\n",
        "  #return get_results(classification_reports)\n"
      ],
      "metadata": {
        "id": "GOOQ3pvzcv3D"
      },
      "execution_count": 15,
      "outputs": []
    },
    {
      "cell_type": "code",
      "source": [
        "options_tfidf_column = ['clean','stems','stems_demojized',]\n",
        "\n",
        "options_vectorizer = list(itertools.product([(1,2),(1,3)],[None,1000]))\n",
        "\n",
        "options_model = [1e-1,1,1e1]"
      ],
      "metadata": {
        "id": "Gl5kcvENOYW0"
      },
      "execution_count": 15,
      "outputs": []
    },
    {
      "cell_type": "code",
      "source": [
        "#best_f1 = [0.,0.,0.,0.,0.,0.,0.,0.,0.,0.]\n",
        "#best_configs = {0:None,1:None,2:None,3:None,4:None,5:None,6:None,7:None,8:None,9:None}\n",
        "\n",
        "br = 0\n",
        "for C in options_model:\n",
        "  print(C)\n",
        "  for nrange in [(1,2)]:\n",
        "    print(nrange)\n",
        "    for tfidf_column in ['stems']: #'clean','stems','stems_demojized'\n",
        "      print(tfidf_column, end=' ')\n",
        "      model = svm.SVC(kernel='linear', random_state=5, C=C, class_weight='balanced')\n",
        "      #for ngram_range,max_features in options_vectorizer:\n",
        "      if tfidf_column == 'clean':\n",
        "        vectorizer = TfidfVectorizer(sublinear_tf=True, min_df=5,norm='l2',ngram_range=nrange, stop_words='english') # , stop_words='english'\n",
        "      else:\n",
        "        vectorizer = TfidfVectorizer(sublinear_tf=True, min_df=5,norm='l2',ngram_range=nrange)\n",
        "      report = cross_validate(vectorizer, tfidf_column, model, verbose=False)\n",
        "      f1 = report['macro avg']['f1-score']\n",
        "      print(f1)\n",
        "\n",
        "      #min_f1_index = np.argmin(best_f1)\n",
        "      #if f1 > best_f1[min_f1_index]:\n",
        "      #  best_f1[min_f1_index] = f1\n",
        "      #  #best_configs[min_f1_index] = (C, ngram_range,max_features, tfidf_column) \n",
        "\n",
        "      #print(best_f1)\n",
        "      #print(best_configs) \n",
        "      #print()"
      ],
      "metadata": {
        "id": "Pd6ch3_KquKN"
      },
      "execution_count": null,
      "outputs": []
    },
    {
      "cell_type": "markdown",
      "source": [
        "#### Test"
      ],
      "metadata": {
        "id": "tY9H49NNJY8_"
      }
    },
    {
      "cell_type": "code",
      "source": [
        "# VECTORIZER & MODEL\n",
        "\n",
        "tfidf_column = 'stems'\n",
        "test_stop_words = None\n",
        "\n",
        "minmax_scaler = MinMaxScaler()\n",
        "\n",
        "test_vectorizer = TfidfVectorizer(sublinear_tf=True, min_df=5,norm='l2',ngram_range=(1, 2), stop_words=test_stop_words)\n"
      ],
      "metadata": {
        "id": "ZHvMjg3KJgr4"
      },
      "execution_count": 54,
      "outputs": []
    },
    {
      "cell_type": "code",
      "source": [
        "# TRAIN + VAL\n",
        "\n",
        "extracted_other_obj_sent_scaled = minmax_scaler.fit_transform(extracted_other_obj_sent)\n",
        "\n",
        "tfidf_df = test_vectorizer.fit_transform(df[tfidf_column]).toarray()\n",
        "\n",
        "X_df = pd.DataFrame(np.concatenate([tfidf_df, extracted_other_obj_sent_scaled],axis=1))\n"
      ],
      "metadata": {
        "id": "aYjwa4bNJcnF"
      },
      "execution_count": 55,
      "outputs": []
    },
    {
      "cell_type": "code",
      "source": [
        "print(tfidf_df.shape)\n",
        "print(X_df.shape)"
      ],
      "metadata": {
        "id": "bfM1uTVaFh3G"
      },
      "execution_count": null,
      "outputs": []
    },
    {
      "cell_type": "code",
      "source": [
        "# TEST SET: LOAD, PREPROCESS\n",
        "\n",
        "test_tweet_a=pd.read_csv('/content/drive/My Drive/OLID/testset-levela.tsv', delimiter='\\t', encoding='utf-8')\n",
        "test_label_a = pd.read_csv('/content/drive/My Drive/OLID/labels-levela.csv', delimiter=',', encoding='utf-8', index_col=False, header=None, names=['id','subtask_a'])\n",
        "test_data = test_tweet_a.merge(test_label_a, on='id')\n",
        "test_data = test_data.drop(columns='id')\n",
        "\n",
        "df_test = test_data[['tweet','subtask_a']]\n",
        "\n",
        "# normalize punctuation\n",
        "df_test['tweet'] = df_test.tweet.str.replace('’',\"'\")\n",
        "df_test['tweet'] = df_test.tweet.str.replace('“','\"')\n",
        "df_test['tweet'] = df_test.tweet.str.replace('”','\"')\n",
        "df_test['tweet'] = df_test.tweet.str.replace('&lt;','')\n",
        "df_test['tweet'] = df_test.tweet.str.replace('&gt;','')\n",
        "df_test['tweet'] = df_test.tweet.str.replace('&amp;','and')\n",
        "\n",
        "# pre-process\n",
        "df_test['clean'] = [clean(tweet) for tweet in df_test['tweet']]\n",
        "df_test['processed'] = [preprocess(tweet, text_processor, demojize=False) for tweet in df_test['tweet']] \n",
        "df_test['processed_demojized'] = [preprocess(tweet, text_processor, demojize=True) for tweet in df_test['tweet']] \n",
        "df_test['words_demojized'] = [remove_special(tweet) for tweet in df_test['processed_demojized']]\n",
        "df_test['stems'] = [stem_new(tweet, remove_stopwords=True) for tweet in df_test['processed']]\n",
        "df_test['stems_demojized'] = [stem_new(tweet, remove_stopwords=True) for tweet in df_test['processed_demojized']]"
      ],
      "metadata": {
        "id": "dC0in8ACCR3s"
      },
      "execution_count": 39,
      "outputs": []
    },
    {
      "cell_type": "code",
      "source": [
        "# TEST SET: EXTRACT FEATURES\n",
        "\n",
        "test_extracted_other_obj_sent = get_feature_array(df_test[['tweet','processed']])\n",
        "test_extracted_other_obj_sent_scaled = minmax_scaler.transform(test_extracted_other_obj_sent)\n",
        "\n",
        "tfidf_test = test_vectorizer.transform(df_test[tfidf_column]).toarray()\n",
        "\n",
        "X_test = np.concatenate([tfidf_test, test_extracted_other_obj_sent_scaled],axis=1) \n",
        "print(X_test.shape)\n",
        "X_test = pd.DataFrame(X_test)\n",
        "\n",
        "y_test = encoder.transform(df_test['subtask_a'])"
      ],
      "metadata": {
        "id": "UBY4WS1RLxue"
      },
      "execution_count": null,
      "outputs": []
    },
    {
      "cell_type": "code",
      "source": [
        "# svm.SVC classifier\n",
        "\n",
        "model_svc = svm.SVC(kernel=\"linear\", random_state=5, class_weight='balanced')\n",
        "model_svc = model_svc.fit(X_df,y)\n",
        "pickle.dump(model_svc, open('model_stems_sent.sav', 'wb'))\n",
        "y_preds_test = model_svc.predict(X_test)\n",
        "print(classification_report(y_test, y_preds_test))\n",
        "report_test = classification_report(y_test, y_preds_test, output_dict=True)\n",
        "\n",
        "pickle.dump(y_preds_test, open('model_stems_sent.sav', 'wb'))\n",
        "pickle.dump(report_test, open('model_stems_sent.sav', 'wb'))"
      ],
      "metadata": {
        "id": "CotgwCdS5ywG"
      },
      "execution_count": null,
      "outputs": []
    },
    {
      "cell_type": "code",
      "source": [
        "with open('model_stems_other_preds.sav', 'rb') as f:\n",
        "    data = pickle.load(f)\n",
        "    print(classification_report(y_test, data))"
      ],
      "metadata": {
        "colab": {
          "base_uri": "https://localhost:8080/"
        },
        "id": "Mk874YdpSU32",
        "outputId": "a9b83723-f134-4852-e935-374560bf1a82"
      },
      "execution_count": 59,
      "outputs": [
        {
          "output_type": "stream",
          "name": "stdout",
          "text": [
            "              precision    recall  f1-score   support\n",
            "\n",
            "           0       0.87      0.84      0.86       620\n",
            "           1       0.62      0.67      0.65       240\n",
            "\n",
            "    accuracy                           0.79       860\n",
            "   macro avg       0.75      0.76      0.75       860\n",
            "weighted avg       0.80      0.79      0.80       860\n",
            "\n"
          ]
        }
      ]
    },
    {
      "cell_type": "code",
      "source": [
        "with open('model_stems_preds.sav', 'rb') as f:\n",
        "    data = pickle.load(f)\n",
        "    print(classification_report(y_test, data))"
      ],
      "metadata": {
        "colab": {
          "base_uri": "https://localhost:8080/"
        },
        "id": "GBIt5xJ-UGWu",
        "outputId": "641cb617-7364-40a7-ca79-ef124db8dd1c"
      },
      "execution_count": 68,
      "outputs": [
        {
          "output_type": "stream",
          "name": "stdout",
          "text": [
            "              precision    recall  f1-score   support\n",
            "\n",
            "           0       0.86      0.83      0.84       620\n",
            "           1       0.60      0.65      0.62       240\n",
            "\n",
            "    accuracy                           0.78       860\n",
            "   macro avg       0.73      0.74      0.73       860\n",
            "weighted avg       0.79      0.78      0.78       860\n",
            "\n"
          ]
        }
      ]
    },
    {
      "cell_type": "code",
      "source": [
        "def plot_conf_matrix(test_label, predicted_label):\n",
        "    cm = confusion_matrix(test_label, predicted_label)\n",
        "    class_names=['NOT','OFF'] \n",
        "    fig, ax = plt.subplots()\n",
        "    tick_marks = np.arange(len(class_names))\n",
        "\n",
        "    h = sns.heatmap(pd.DataFrame(cm), annot=True, cmap=\"BuPu\" ,fmt='g',annot_kws={\"size\": 20},xticklabels=class_names, yticklabels=class_names)\n",
        "    ax.xaxis.set_label_position(\"top\")\n",
        "    h.set_xticklabels(h.get_xticklabels(), size = 20)\n",
        "    h.set_yticklabels(h.get_yticklabels(), size = 20)\n",
        "\n",
        "\n",
        "    plt.tight_layout()\n",
        "    plt.ylabel('True label',fontsize=20)\n",
        "    plt.xlabel('Predicted label',fontsize=20);"
      ],
      "metadata": {
        "id": "eS4TeyWc3SFm"
      },
      "execution_count": 45,
      "outputs": []
    },
    {
      "cell_type": "code",
      "source": [
        "with open('model_stems_preds.sav', 'rb') as f:\n",
        "    data = pickle.load(f)\n",
        "    plot_conf_matrix(y_test,data)"
      ],
      "metadata": {
        "id": "mvUx0oVx3So-",
        "colab": {
          "base_uri": "https://localhost:8080/",
          "height": 514
        },
        "outputId": "c0247640-e7e0-451d-c231-2801f9c58a4a"
      },
      "execution_count": 46,
      "outputs": [
        {
          "output_type": "display_data",
          "data": {
            "text/plain": [
              "<Figure size 640x480 with 2 Axes>"
            ],
            "image/png": "[encoded data removed]"
          },
          "metadata": {}
        }
      ]
    },
    {
      "cell_type": "code",
      "source": [
        "with open('model_stems_other_preds.sav', 'rb') as f:\n",
        "    data = pickle.load(f)\n",
        "    plot_conf_matrix(y_test,data)"
      ],
      "metadata": {
        "colab": {
          "base_uri": "https://localhost:8080/",
          "height": 514
        },
        "id": "512MX1GVdk4B",
        "outputId": "c27b9f8d-225f-4d1f-c2fd-8995aa930ba9"
      },
      "execution_count": 47,
      "outputs": [
        {
          "output_type": "display_data",
          "data": {
            "text/plain": [
              "<Figure size 640x480 with 2 Axes>"
            ],
            "image/png": "[encoded data removed]"
          },
          "metadata": {}
        }
      ]
    }
  ]
}